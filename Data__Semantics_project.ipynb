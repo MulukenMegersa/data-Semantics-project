{
  "nbformat": 4,
  "nbformat_minor": 0,
  "metadata": {
    "colab": {
      "provenance": [],
      "authorship_tag": "ABX9TyPtmDzImpPTlpTNVDWVunrh",
      "include_colab_link": true
    },
    "kernelspec": {
      "name": "python3",
      "display_name": "Python 3"
    },
    "language_info": {
      "name": "python"
    }
  },
  "cells": [
    {
      "cell_type": "markdown",
      "metadata": {
        "id": "view-in-github",
        "colab_type": "text"
      },
      "source": [
        "<a href=\"https://colab.research.google.com/github/MulukenMegersa/data-Semantics-project/blob/main/Data__Semantics_project.ipynb\" target=\"_parent\"><img src=\"https://colab.research.google.com/assets/colab-badge.svg\" alt=\"Open In Colab\"/></a>"
      ]
    },
    {
      "cell_type": "markdown",
      "source": [
        "# **Data Semantics Project**<br/>\n",
        "**Master's Degree in Data Science (A.Y. 2023/2024)**<br/>\n",
        "**University of Milano - Bicocca**<br/>\n",
        "\n",
        "By: Muluken Bogale Megersa - 919654"
      ],
      "metadata": {
        "id": "iH62gNVwhCrU"
      }
    },
    {
      "cell_type": "code",
      "source": [
        "pip install langchain langchain-community langchainhub neo4j openai langchain-openai"
      ],
      "metadata": {
        "id": "U_6mWOCahNIB"
      },
      "execution_count": null,
      "outputs": []
    }
  ]
}